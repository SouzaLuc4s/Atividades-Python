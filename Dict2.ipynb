{
  "nbformat": 4,
  "nbformat_minor": 0,
  "metadata": {
    "colab": {
      "name": "Dict2",
      "provenance": [],
      "collapsed_sections": [],
      "authorship_tag": "ABX9TyNw1dgRbhcmJ6eTK+qvqSMZ"
    },
    "kernelspec": {
      "name": "python3",
      "display_name": "Python 3"
    },
    "language_info": {
      "name": "python"
    }
  },
  "cells": [
    {
      "cell_type": "code",
      "execution_count": 23,
      "metadata": {
        "colab": {
          "base_uri": "https://localhost:8080/"
        },
        "id": "208EeFHHom15",
        "outputId": "0ef22aeb-451b-4b56-b514-e5e61db6c44a"
      },
      "outputs": [
        {
          "output_type": "stream",
          "name": "stdout",
          "text": [
            "pergunta 1: Quando foi declarada a idependência do Brasil?\n",
            "[a]: 7 de Setembro de 1822\n",
            "[b]: 4 de Outubro de 1815\n",
            "[c]: 13 de Novembro de 1898\n",
            "[d]: 13 de Maio de 1888 \n",
            "Digite sua resposta: a\n",
            "Parabéns você acertou!!!\n",
            " No dia 7 de setembro de 1822, D. Pedro 1º proclamou o grito de independência\n",
            " às margens do rio Ipiranga e o Brasil se consolidou como uma nação independente.\n",
            " Desde 1946, por lei federal, a data é feriado nacional.\n"
          ]
        }
      ],
      "source": [
        "perguntas = {\n",
        "     'pergunta 1' :{\n",
        "         'pergunta':'Quando foi declarada a idependência do Brasil?',\n",
        "         'resposta': {\n",
        "             'a': '7 de Setembro de 1822',\n",
        "             'b': '4 de Outubro de 1815',\n",
        "             'c': '13 de Novembro de 1898',\n",
        "             'd': '13 de Maio de 1888 ',\n",
        "            },\n",
        "            'resposta_certa': \"a\",\n",
        "         }\n",
        "     }\n",
        "for pk, pv in perguntas.items():\n",
        "  print(f'{pk}: {pv[\"pergunta\"]}')\n",
        "\n",
        "  for rk, rv in pv['resposta'].items():\n",
        "    print(f'[{rk}]: {rv}')\n",
        "\n",
        "resposta_user= input('Digite sua resposta: ')\n",
        "if resposta_user == pv['resposta_certa']:\n",
        "  print('Parabéns você acertou!!!\\n No dia 7 de setembro de 1822, D. Pedro 1º proclamou o grito de independência\\n às margens do rio Ipiranga e o Brasil se consolidou como uma nação independente.\\n Desde 1946, por lei federal, a data é feriado nacional.')\n",
        "else:\n",
        "  print(f'Você errou!\\n A resposta certa era {pv[\"resposta_certa\"]}\\n No dia 7 de setembro de 1822,\\n D. Pedro 1º proclamou o grito de independência às margens do rio Ipiranga e o Brasil se consolidou como uma nação independente.')\n"
      ]
    }
  ]
}